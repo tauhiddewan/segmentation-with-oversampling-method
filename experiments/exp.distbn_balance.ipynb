{
 "cells": [
  {
   "cell_type": "code",
   "execution_count": 1,
   "metadata": {},
   "outputs": [],
   "source": [
    "%run imports.py"
   ]
  },
  {
   "cell_type": "code",
   "execution_count": 2,
   "metadata": {},
   "outputs": [],
   "source": [
    "def get_mask_area_ratio(mask):\n",
    "    foreground = (mask == 1).sum().item() \n",
    "    total_pixels = mask.numel() \n",
    "    return foreground / total_pixels\n",
    "\n",
    "def get_test_dataset(subsets_path, choosen_test_subsets = [\"i\", \"j\"]):\n",
    "    test_subsets = []\n",
    "    for subset in os.listdir(subsets_path):\n",
    "        if subset.split(\".\")[0].split(\"_\")[1] in choosen_test_subsets:\n",
    "            with open(f'{subsets_path}/{subset}', \"rb\") as f:\n",
    "                data = pickle.load(f)\n",
    "            test_subsets.append(data)\n",
    "    test_data = ConcatDataset(test_subsets)\n",
    "    \n",
    "    test_dataset = KvasirDataset(data=test_data, \n",
    "                                 mode=\"test\", \n",
    "                                 image_size=ast.literal_eval(env_vars[\"image_size\"]), \n",
    "                                 mask_size=ast.literal_eval(env_vars[\"mask_size\"]))\n",
    "    \n",
    "    return test_dataset\n",
    "\n",
    "def get_train_dataset(subsets_path, choosen_test_subsets = [\"i\", \"j\"]):\n",
    "    test_subsets = []\n",
    "    for subset in os.listdir(subsets_path):\n",
    "        if subset.split(\".\")[0].split(\"_\")[1] not in choosen_test_subsets:\n",
    "            with open(f'{subsets_path}/{subset}', \"rb\") as f:\n",
    "                data = pickle.load(f)\n",
    "            test_subsets.append(data)\n",
    "    train_data = ConcatDataset(test_subsets)\n",
    "    \n",
    "    train_dataset = KvasirDataset(data=train_data, \n",
    "                                 mode=\"test\", \n",
    "                                 image_size=ast.literal_eval(env_vars[\"image_size\"]), \n",
    "                                 mask_size=ast.literal_eval(env_vars[\"mask_size\"]))\n",
    "    \n",
    "    return train_dataset"
   ]
  },
  {
   "cell_type": "code",
   "execution_count": 3,
   "metadata": {},
   "outputs": [],
   "source": [
    "def get_sas_modelwise_area_vs_dice(data, model_dir, model_name, model_config, device, savepath):\n",
    "    model = select_model(model_name=model_name, model_config=model_config)\n",
    "    model_files = sorted(os.listdir(model_dir))\n",
    "    \n",
    "    results = {}\n",
    "    for fname in model_files:\n",
    "        fname_parts = fname.split(\".\")\n",
    "        sas_status = fname_parts[0]\n",
    "        split_key = fname_parts[-2].split(\"%\")[0]\n",
    "        \n",
    "        if split_key not in results:\n",
    "            results[split_key] = {\"presas\": {}, \n",
    "                                  \"postsas\" : {}}\n",
    "        \n",
    "        sas_model = copy.deepcopy(model)\n",
    "        checkpoint = torch.load(f\"{model_dir}/{fname}\", weights_only=True)\n",
    "        sas_model.load_state_dict(checkpoint['model_state_dict'])\n",
    "        \n",
    "        sas_model.to(device)\n",
    "        \n",
    "        \n",
    "        area_vs_score_list = []\n",
    "        sas_model.eval()\n",
    "        \n",
    "        for idx in range(len(data)):\n",
    "            image, mask = data[idx][0].to(device), data[idx][1].to(device)\n",
    "            \n",
    "            area_ratio = get_mask_area_ratio(mask)\n",
    "            \n",
    "            batched_image = image.unsqueeze(0).to(device)\n",
    "            preds = sas_model(batched_image)\n",
    "            preds = preds.squeeze(0)\n",
    "            dice_score = calculate_dice_score(preds=preds, \n",
    "                                              targets=mask, \n",
    "                                              device=device, \n",
    "                                              model_name=model_name)\n",
    "            \n",
    "            tuple_data = (area_ratio, dice_score.item())\n",
    "            area_vs_score_list.append(tuple_data)\n",
    "            \n",
    "        \n",
    "        if sas_status==\"presas\":\n",
    "            results[split_key][\"presas\"][\"area_vs_score\"] = area_vs_score_list\n",
    "        else:\n",
    "            results[split_key][\"postsas\"][\"area_vs_score\"] = area_vs_score_list\n",
    "            \n",
    "            \n",
    "    with open(f\"{savepath}/area_vs_score_results.json\", \"w\") as file:\n",
    "        json.dump(results, file, indent=4)\n",
    "    \n",
    "    return results"
   ]
  },
  {
   "cell_type": "code",
   "execution_count": 4,
   "metadata": {},
   "outputs": [],
   "source": [
    "train_dataset = get_train_dataset(subsets_path=f\"../data/subsets\")\n",
    "test_dataset = get_test_dataset(subsets_path=f\"../data/subsets\")\n",
    "full_dataset = ConcatDataset([train_dataset, test_dataset])"
   ]
  },
  {
   "cell_type": "code",
   "execution_count": null,
   "metadata": {},
   "outputs": [],
   "source": [
    "results = get_sas_modelwise_area_vs_dice(data=full_dataset, \n",
    "                                         model_dir=f\"{env_vars['results_root']}/final-results-with-segformer/train_semi_auto/models\", \n",
    "                                         model_name=f\"{env_vars['model_name']}\", \n",
    "                                         model_config=f\"{env_vars['model_config']}\", \n",
    "                                         device=\"cuda\", \n",
    "                                         savepath=f\"{env_vars['output_folder_path']}\")\n",
    "\n",
    "with open(f\"../outputs/area_vs_score_results.json\", \"r\") as file:\n",
    "    results = json.load(file)"
   ]
  },
  {
   "cell_type": "code",
   "execution_count": null,
   "metadata": {},
   "outputs": [],
   "source": [
    "splits = list(results.keys())\n",
    "stages = [\"presas\", \"postsas\"]\n",
    "key = \"area_vs_score\"\n",
    "\n",
    "# json doesn't save tuples so converting back to tuples\n",
    "for split in splits:\n",
    "    for stage in stages:\n",
    "        for idx in range(len(results[split][stage][key])):\n",
    "            results[split][stage][key][idx] = tuple(results[split][stage][key][idx])"
   ]
  },
  {
   "cell_type": "code",
   "execution_count": null,
   "metadata": {},
   "outputs": [],
   "source": [
    "def plot_butterfly_mask_vs_score(ax, n_bins, threshold, results, split_key, stage_key, key=\"area_vs_score\"):\n",
    "    data = results[split_key][stage_key][key]\n",
    "\n",
    "    mask_bins = np.linspace(0.0, 1.0, n_bins+1)\n",
    "    data_bins = [[] for _ in range(len(mask_bins)-1)]\n",
    "    butterfly_data = []\n",
    "\n",
    "    for idx in range(len(data)):\n",
    "        area, score = data[idx][0], data[idx][1]\n",
    "        \n",
    "        for j in range(len(mask_bins)-1):\n",
    "            if mask_bins[j] <= area < mask_bins[j+1]:\n",
    "                data_bins[j].append(score)\n",
    "                break\n",
    "            \n",
    "    for j in range(len(data_bins)):\n",
    "        above_count = sum(1 for value in data_bins[j] if value > threshold)\n",
    "        below_count = sum(1 for value in data_bins[j] if value < threshold)\n",
    "        \n",
    "        butterfly_data.append((below_count, above_count))\n",
    "\n",
    "    below_counts = [x[0] for x in butterfly_data]\n",
    "    above_counts = [x[1] for x in butterfly_data]\n",
    "    \n",
    "    bar_width = 0.35\n",
    "    index = np.arange(n_bins)\n",
    "\n",
    "    ax.bar(index, -np.array(below_counts), bar_width, color='blue', label='Below Threshold')\n",
    "    ax.bar(index, np.array(above_counts), bar_width, color='red', label='Above Threshold')\n",
    "\n",
    "    ax.axhline(y=threshold, color='black', linestyle='--', label=f'Threshold = {threshold}')\n",
    "    \n",
    "    for i in range(n_bins):\n",
    "        ax.text(i, -below_counts[i] - 0.5, str(below_counts[i]), ha='center', va='top', fontsize=9)\n",
    "        ax.text(i, above_counts[i] + 0.5, str(above_counts[i]), ha='center', va='bottom', fontsize=9)\n",
    "\n",
    "    ax.set_xlabel('Mask Sizes')\n",
    "    ax.set_ylabel('Counts')\n",
    "    split_pct = int(split_key.split(\"_\")[-1])\n",
    "    # ax.set_title(f'{split_pct}%:{80-split_pct}% ({stage_key})')\n",
    "    \n",
    "    ax.set_xticks(index)\n",
    "    ax.set_xticklabels([f'{mask_bins[i]:.2f}-{mask_bins[i+1]:.2f}' for i in range(n_bins)])\n",
    "    ax.legend()"
   ]
  },
  {
   "cell_type": "code",
   "execution_count": 24,
   "metadata": {},
   "outputs": [],
   "source": [
    "# fig, axes = plt.subplots(len(splits), len(stages), figsize=(20, 30))\n",
    "\n",
    "# for i, split_key in enumerate(splits):\n",
    "#     for j, stage_key in enumerate(stages):\n",
    "#         plot_butterfly_mask_vs_score(axes[i, j], n_bins=10, \n",
    "#                                      threshold=0.5,\n",
    "#                                      results=results, \n",
    "#                                      split_key=split_key, \n",
    "#                                      stage_key=stage_key, \n",
    "#                                      key=\"area_vs_score\")\n",
    "\n",
    "# plt.tight_layout()\n",
    "# plt.savefig('../outputs/figures/area_vs_score_butterfly_plot.pdf', dpi=300)\n",
    "# plt.close()\n"
   ]
  },
  {
   "cell_type": "code",
   "execution_count": 25,
   "metadata": {},
   "outputs": [],
   "source": [
    "fig, axes = plt.subplots(1, 1, figsize=(20, 8))\n",
    "\n",
    "# for j, stage_key in enumerate(stages):\n",
    "plot_butterfly_mask_vs_score(axes, \n",
    "                                n_bins=10, \n",
    "                                threshold=0.5,\n",
    "                                results=results, \n",
    "                                split_key=splits[0],\n",
    "                                stage_key=stage_key, \n",
    "                                key=\"area_vs_score\")\n",
    "\n",
    "plt.tight_layout()\n",
    "plt.savefig(f'../outputs/figures/area_vs_score_butterfly_plot_{splits[0]}.pdf', dpi=300)\n",
    "plt.close()\n"
   ]
  },
  {
   "cell_type": "markdown",
   "metadata": {},
   "source": [
    "#### Train vs Test dataset distribution balancing"
   ]
  },
  {
   "cell_type": "code",
   "execution_count": null,
   "metadata": {},
   "outputs": [],
   "source": [
    "def analyze_train_vs_test_dist(train_dataset, test_dataset, savefig_name):\n",
    "    \n",
    "    training_mask_area_ratios = [get_mask_area_ratio(train_dataset[idx][1]) for idx in range(len(train_dataset))]\n",
    "    testing_mask_area_ratios = [get_mask_area_ratio(test_dataset[idx][1]) for idx in range(len(test_dataset))]\n",
    "    \n",
    "    x_vals = np.linspace(0, 1, 1000)\n",
    "    train_kde = gaussian_kde(training_mask_area_ratios, bw_method=0.5)\n",
    "    test_kde = gaussian_kde(testing_mask_area_ratios, bw_method=0.5)\n",
    "    \n",
    "    train_y_vals,test_y_vals = train_kde(x_vals), test_kde(x_vals)\n",
    "    ks_stat, p_value = ks_2samp(training_mask_area_ratios, testing_mask_area_ratios)\n",
    "    \n",
    "    \n",
    "    fig, ax = plt.subplots(figsize=(10, 6))\n",
    "    ax.fill_between(x_vals, train_y_vals, color=\"blue\", alpha=0.3)\n",
    "    ax.plot(x_vals, train_y_vals, color=\"blue\", linewidth=2, label=\"KDE on training data \")\n",
    "    ax.fill_between(x_vals, test_y_vals, color=\"red\", alpha=0.3)\n",
    "    ax.plot(x_vals, test_y_vals, color=\"red\", linewidth=2, label=\"KDE on testing data\")\n",
    "\n",
    "    ax.set_title(f\"KDE for training and testing dataset mask distribution (KS Stat: {ks_stat:.4f}, P-value: {p_value:.4f})\")\n",
    "    ax.set_xlabel(\"Mask Area Ratios\")\n",
    "    ax.set_ylabel(\"Density\")\n",
    "    ax.set_xticks(np.arange(0.0, 1.1, 0.1))\n",
    "    \n",
    "    plt.legend()\n",
    "    plt.savefig(f'.{env_vars[\"output_folder_path\"]}/figures/{savefig_name}.pdf', format=\"pdf\", bbox_inches=\"tight\")\n",
    "    \n",
    "    plt.close()"
   ]
  },
  {
   "cell_type": "code",
   "execution_count": null,
   "metadata": {},
   "outputs": [],
   "source": [
    "analyze_train_vs_test_dist(train_dataset, \n",
    "                           test_dataset,\n",
    "                           savefig_name=\"train_vs_test_kde_original\")"
   ]
  },
  {
   "cell_type": "markdown",
   "metadata": {},
   "source": [
    "##### 1st approach, Masking all bins have equal samples (First train-test split binwise, then extend the training dataset with the fmax)"
   ]
  },
  {
   "cell_type": "code",
   "execution_count": null,
   "metadata": {},
   "outputs": [],
   "source": []
  },
  {
   "cell_type": "code",
   "execution_count": null,
   "metadata": {},
   "outputs": [],
   "source": [
    "def get_binwise_data(dataset, area_bins):\n",
    "    data_bins = [[] for _ in range(len(area_bins)-1)]\n",
    "    for idx in range(len(dataset)):\n",
    "        area_ratio = get_mask_area_ratio(mask=dataset[idx][1])\n",
    "        for j in range(len(area_bins)-1):\n",
    "            if area_ratio >= area_bins[j] and area_ratio < area_bins[j+1]:\n",
    "                data_bins[j].append(dataset[idx])\n",
    "    return data_bins"
   ]
  },
  {
   "cell_type": "code",
   "execution_count": null,
   "metadata": {},
   "outputs": [],
   "source": [
    "def dataset_balancing_fmax(full_dataset):\n",
    "    resampled_train_dataset, resampled_test_dataset = [], []\n",
    "    area_bins = np.linspace(0, 1, 11)\n",
    "    data_bins = get_binwise_data(full_dataset, area_bins)\n",
    "    \n",
    "    for j in range(len(data_bins)):\n",
    "        if len(data_bins[j]) != 0:\n",
    "            if len(data_bins[j]) > 1:\n",
    "                train_images, test_images = train_test_split(data_bins[j], train_size=0.8, test_size=0.2, random_state=42)\n",
    "                resampled_train_dataset.extend(train_images)\n",
    "                resampled_test_dataset.extend(test_images)\n",
    "\n",
    "    \n",
    "    data_bins_train = get_binwise_data(resampled_train_dataset, area_bins)\n",
    "    counts = [len(data) for data in data_bins_train]\n",
    "    \n",
    "    \n",
    "    for j in range(len(data_bins_train)):\n",
    "        to_add = np.max(counts) - len(data_bins_train[j])\n",
    "        if data_bins_train[j] and to_add > 0:  \n",
    "            data_bins_train[j].extend(random.choices(data_bins_train[j], k=to_add))\n",
    "            \n",
    "\n",
    "    resampled_train_dataset = [item for sublist in data_bins_train for item in sublist]\n",
    "    \n",
    "    return resampled_train_dataset, resampled_test_dataset\n"
   ]
  },
  {
   "cell_type": "code",
   "execution_count": null,
   "metadata": {},
   "outputs": [],
   "source": [
    "resampled_train_dataset, resampled_test_dataset = dataset_balancing_fmax(full_dataset)\n",
    "len(resampled_train_dataset), len(resampled_test_dataset)"
   ]
  },
  {
   "cell_type": "code",
   "execution_count": null,
   "metadata": {},
   "outputs": [],
   "source": [
    "def create_subsets(data, num_subsets):\n",
    "    random.shuffle(data)\n",
    "    subsets = [[] for _ in range(num_subsets)]\n",
    "    total_data_len = len(data)\n",
    "    quotient = len(data) // num_subsets\n",
    "    remainder = len(data) % num_subsets\n",
    "    \n",
    "    per_subset_len = [quotient for _ in range(num_subsets)]\n",
    "    for i in range(remainder):\n",
    "        per_subset_len[i] += 1\n",
    "    \n",
    "    start_idx = 0\n",
    "    for i in range(num_subsets):\n",
    "        end_idx = start_idx + per_subset_len[i]\n",
    "        subsets[i] = data_copy[start_idx:end_idx]\n",
    "        start_idx = end_idx\n",
    "        \n",
    "    return subsets"
   ]
  },
  {
   "cell_type": "code",
   "execution_count": null,
   "metadata": {},
   "outputs": [],
   "source": [
    "import string\n",
    "string.ascii_lowercase[0]"
   ]
  },
  {
   "cell_type": "code",
   "execution_count": null,
   "metadata": {},
   "outputs": [],
   "source": [
    "analyze_train_vs_test_dist(resampled_train_dataset, \n",
    "                           resampled_test_dataset,\n",
    "                           savefig_name=\"train_vs_test_kde_after_fmax_balancing_wo_binwise_split\")"
   ]
  },
  {
   "cell_type": "markdown",
   "metadata": {},
   "source": [
    "##### 2nd approach, First binwise train-test splitting then adding"
   ]
  },
  {
   "cell_type": "code",
   "execution_count": null,
   "metadata": {},
   "outputs": [],
   "source": [
    "# def dataset_balancing_binwise(full_dataset):\n",
    "#     resampled_train_dataset, resampled_test_dataset = [], []\n",
    "    \n",
    "#     area_bins = np.linspace(0, 1, 11)\n",
    "#     data_bins = [[] for _ in range(len(area_bins)-1)]\n",
    "\n",
    "#     for idx in range(len(full_dataset)):\n",
    "#         area_ratio = get_mask_area_ratio(mask=full_dataset[idx][1])\n",
    "#         for j in range(len(area_bins)-1):\n",
    "#             if area_ratio>=area_bins[j] and area_ratio<area_bins[j+1]:\n",
    "#                 data_bins[j].append(full_dataset[idx])\n",
    "                \n",
    "#     for j in range(len(data_bins)):\n",
    "#         if len(data_bins[j]) <2:\n",
    "#             resampled_train_dataset.extend(data_bins[j])\n",
    "#         else:\n",
    "#             train_images, test_images = train_test_split(data_bins[j], train_size=0.8, test_size=0.2, random_state=42)\n",
    "#             resampled_train_dataset.extend(train_images)\n",
    "#             resampled_test_dataset.extend(test_images)\n",
    "            \n",
    "#     return resampled_train_dataset, resampled_test_dataset"
   ]
  },
  {
   "cell_type": "code",
   "execution_count": null,
   "metadata": {},
   "outputs": [],
   "source": [
    "# resampled_train_dataset, resampled_test_dataset = dataset_balancing_binwise(full_dataset)"
   ]
  },
  {
   "cell_type": "code",
   "execution_count": null,
   "metadata": {},
   "outputs": [],
   "source": [
    "# analyze_train_vs_test_dist(train_data, \n",
    "#                            test_data,\n",
    "#                            savefig_name=\"train_vs_test_kde_after_binwise_balancing\")"
   ]
  },
  {
   "cell_type": "code",
   "execution_count": null,
   "metadata": {},
   "outputs": [],
   "source": []
  }
 ],
 "metadata": {
  "kernelspec": {
   "display_name": "auto-seg",
   "language": "python",
   "name": "python3"
  },
  "language_info": {
   "codemirror_mode": {
    "name": "ipython",
    "version": 3
   },
   "file_extension": ".py",
   "mimetype": "text/x-python",
   "name": "python",
   "nbconvert_exporter": "python",
   "pygments_lexer": "ipython3",
   "version": "3.10.15"
  }
 },
 "nbformat": 4,
 "nbformat_minor": 2
}
